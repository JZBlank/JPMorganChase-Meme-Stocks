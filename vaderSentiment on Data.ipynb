{
 "cells": [
  {
   "cell_type": "code",
   "execution_count": 1,
   "id": "9327f09e",
   "metadata": {
    "scrolled": true
   },
   "outputs": [
    {
     "name": "stderr",
     "output_type": "stream",
     "text": [
      "[nltk_data] Downloading package punkt to\n",
      "[nltk_data]     C:\\Users\\JZ\\AppData\\Roaming\\nltk_data...\n",
      "[nltk_data]   Package punkt is already up-to-date!\n"
     ]
    },
    {
     "data": {
      "text/plain": [
       "True"
      ]
     },
     "execution_count": 1,
     "metadata": {},
     "output_type": "execute_result"
    }
   ],
   "source": [
    "import pandas as pd\n",
    "import nltk\n",
    "import vaderSentiment\n",
    "import re\n",
    "import string\n",
    "from vaderSentiment.vaderSentiment import SentimentIntensityAnalyzer\n",
    "\n",
    "from nltk.tokenize import sent_tokenize\n",
    "from nltk.tokenize import word_tokenize\n",
    "nltk.download('punkt')"
   ]
  },
  {
   "cell_type": "markdown",
   "id": "00f12b59",
   "metadata": {},
   "source": [
    "Read Data from CSV File:"
   ]
  },
  {
   "cell_type": "code",
   "execution_count": 2,
   "id": "b45e87e9",
   "metadata": {
    "scrolled": true
   },
   "outputs": [],
   "source": [
    "path = r'C:\\Users\\JZ\\Desktop\\Data\\JPMC_data_csv1.csv'"
   ]
  },
  {
   "cell_type": "code",
   "execution_count": 3,
   "id": "ecde03d2",
   "metadata": {},
   "outputs": [],
   "source": [
    "def load():\n",
    "    pd.set_option(\"display.max_colwidth\", None) #-1\n",
    "    return pd.read_csv(path)"
   ]
  },
  {
   "cell_type": "code",
   "execution_count": 5,
   "id": "f290ebce",
   "metadata": {},
   "outputs": [],
   "source": [
    "totalInfo = load().copy()"
   ]
  },
  {
   "cell_type": "code",
   "execution_count": 6,
   "id": "e4a0684d",
   "metadata": {},
   "outputs": [
    {
     "data": {
      "text/html": [
       "<div>\n",
       "<style scoped>\n",
       "    .dataframe tbody tr th:only-of-type {\n",
       "        vertical-align: middle;\n",
       "    }\n",
       "\n",
       "    .dataframe tbody tr th {\n",
       "        vertical-align: top;\n",
       "    }\n",
       "\n",
       "    .dataframe thead th {\n",
       "        text-align: right;\n",
       "    }\n",
       "</style>\n",
       "<table border=\"1\" class=\"dataframe\">\n",
       "  <thead>\n",
       "    <tr style=\"text-align: right;\">\n",
       "      <th></th>\n",
       "      <th>Date</th>\n",
       "      <th>text</th>\n",
       "      <th>favorite_count</th>\n",
       "      <th>favorited</th>\n",
       "      <th>retweeted</th>\n",
       "      <th>lang</th>\n",
       "      <th>quoted_status</th>\n",
       "      <th>Stock_Name</th>\n",
       "      <th>sentiment</th>\n",
       "      <th>sentiment_class</th>\n",
       "      <th>compound score</th>\n",
       "      <th>Stock Price</th>\n",
       "    </tr>\n",
       "  </thead>\n",
       "  <tbody>\n",
       "    <tr>\n",
       "      <th>0</th>\n",
       "      <td>10/24/2021</td>\n",
       "      <td>$BBIG $AMC $GME $DWAC $BENE âœ…ðŸ“ˆðŸ“ˆðŸ“ˆ ðŸ‘‰\\n\\n#DWAC #GME #BENE #BBIG #AMC https://t.co/PcMTemqch1</td>\n",
       "      <td>0</td>\n",
       "      <td>FALSE</td>\n",
       "      <td>FALSE</td>\n",
       "      <td>en</td>\n",
       "      <td>NaN</td>\n",
       "      <td>GME</td>\n",
       "      <td>{'neg': 0.0, 'neu': 1.0, 'pos': 0.0, 'compound': 0.0}</td>\n",
       "      <td>neutral</td>\n",
       "      <td>0</td>\n",
       "      <td>169.8</td>\n",
       "    </tr>\n",
       "    <tr>\n",
       "      <th>1</th>\n",
       "      <td>10/24/2021</td>\n",
       "      <td>RT @soFloTrading: SUNDAY GIVEAWAY TIME!\\n\\nOctober 18, 2021 - Weekly Trade Performance\\n\\nToday is the last day to lock in a FREE weekly trial!â€¦</td>\n",
       "      <td>0</td>\n",
       "      <td>FALSE</td>\n",
       "      <td>FALSE</td>\n",
       "      <td>en</td>\n",
       "      <td>NaN</td>\n",
       "      <td>GME</td>\n",
       "      <td>{'neg': 0.0, 'neu': 0.833, 'pos': 0.167, 'compound': 0.6825}</td>\n",
       "      <td>positive</td>\n",
       "      <td>0.68</td>\n",
       "      <td>169.8</td>\n",
       "    </tr>\n",
       "    <tr>\n",
       "      <th>2</th>\n",
       "      <td>10/24/2021</td>\n",
       "      <td>We are going through the beginning stages of everything Iâ€™ve said in the last year about the economy. Iâ€™m no geniusâ€¦ https://t.co/DaBpCTtQh6</td>\n",
       "      <td>0</td>\n",
       "      <td>FALSE</td>\n",
       "      <td>FALSE</td>\n",
       "      <td>en</td>\n",
       "      <td>NaN</td>\n",
       "      <td>GME</td>\n",
       "      <td>{'neg': 0.095, 'neu': 0.905, 'pos': 0.0, 'compound': -0.296}</td>\n",
       "      <td>negative</td>\n",
       "      <td>-0.3</td>\n",
       "      <td>169.8</td>\n",
       "    </tr>\n",
       "    <tr>\n",
       "      <th>3</th>\n",
       "      <td>10/24/2021</td>\n",
       "      <td>$BBBY ðŸ‹ candidate! the base is minimum. ðŸš€\\n\\n$GME $AMC $BB $NOK $NAKD $CCIV $BTC $ETH $DOGE $TEL $SHIB $ADA $XTZâ€¦ https://t.co/c1RCHDpDkF</td>\n",
       "      <td>0</td>\n",
       "      <td>FALSE</td>\n",
       "      <td>FALSE</td>\n",
       "      <td>en</td>\n",
       "      <td>NaN</td>\n",
       "      <td>GME</td>\n",
       "      <td>{'neg': 0.0, 'neu': 1.0, 'pos': 0.0, 'compound': 0.0}</td>\n",
       "      <td>neutral</td>\n",
       "      <td>0</td>\n",
       "      <td>169.8</td>\n",
       "    </tr>\n",
       "    <tr>\n",
       "      <th>4</th>\n",
       "      <td>10/24/2021</td>\n",
       "      <td>The largest mining company in the world\\nGet Bonus 40% â¬‡ï¸\\nhttps://t.co/kVp59h2td0\\n\\n$elon $doge $btc $tsla $amc $gmeâ€¦ https://t.co/I4ZfSukZaP</td>\n",
       "      <td>0</td>\n",
       "      <td>FALSE</td>\n",
       "      <td>FALSE</td>\n",
       "      <td>en</td>\n",
       "      <td>NaN</td>\n",
       "      <td>GME</td>\n",
       "      <td>{'neg': 0.0, 'neu': 0.844, 'pos': 0.156, 'compound': 0.5423}</td>\n",
       "      <td>positive</td>\n",
       "      <td>NaN</td>\n",
       "      <td>169.8</td>\n",
       "    </tr>\n",
       "    <tr>\n",
       "      <th>...</th>\n",
       "      <td>...</td>\n",
       "      <td>...</td>\n",
       "      <td>...</td>\n",
       "      <td>...</td>\n",
       "      <td>...</td>\n",
       "      <td>...</td>\n",
       "      <td>...</td>\n",
       "      <td>...</td>\n",
       "      <td>...</td>\n",
       "      <td>...</td>\n",
       "      <td>...</td>\n",
       "      <td>...</td>\n",
       "    </tr>\n",
       "    <tr>\n",
       "      <th>26718</th>\n",
       "      <td>11/6/2021</td>\n",
       "      <td>@RobEducated $FB $MVRS Metaverse optionality isn’t really priced in at current ~22x P/E. I think I trust more Zuck… https://t.co/4w3U6cFthi</td>\n",
       "      <td>1</td>\n",
       "      <td>FALSE</td>\n",
       "      <td>FALSE</td>\n",
       "      <td>en</td>\n",
       "      <td>NaN</td>\n",
       "      <td>FB</td>\n",
       "      <td>{'neg': 0.0, 'neu': 0.852, 'pos': 0.148, 'compound': 0.5106}</td>\n",
       "      <td>positive</td>\n",
       "      <td>0.51</td>\n",
       "      <td>341.13</td>\n",
       "    </tr>\n",
       "    <tr>\n",
       "      <th>26719</th>\n",
       "      <td>11/6/2021</td>\n",
       "      <td>$FB $MRNA $NVAX $LAC $AAPL $NVDA\\nMy calls , Weekly Options Gains :\\n\\n$FB 320p|Nov 05 | $1.55 to $3 &amp;gt; 95% moved… https://t.co/c3k90lW7ye</td>\n",
       "      <td>1</td>\n",
       "      <td>FALSE</td>\n",
       "      <td>FALSE</td>\n",
       "      <td>en</td>\n",
       "      <td>NaN</td>\n",
       "      <td>FB</td>\n",
       "      <td>{'neg': 0.0, 'neu': 0.906, 'pos': 0.094, 'compound': 0.34}</td>\n",
       "      <td>neutral</td>\n",
       "      <td>0.34</td>\n",
       "      <td>341.13</td>\n",
       "    </tr>\n",
       "    <tr>\n",
       "      <th>26720</th>\n",
       "      <td>11/6/2021</td>\n",
       "      <td>@801010athlete I am viewing Thursday move was due to metaverse announcements from $FB and $MSFT. The N in CANSLIM.… https://t.co/oemrZW4Sp3</td>\n",
       "      <td>2</td>\n",
       "      <td>FALSE</td>\n",
       "      <td>FALSE</td>\n",
       "      <td>en</td>\n",
       "      <td>NaN</td>\n",
       "      <td>FB</td>\n",
       "      <td>{'neg': 0.0, 'neu': 1.0, 'pos': 0.0, 'compound': 0.0}</td>\n",
       "      <td>neutral</td>\n",
       "      <td>0</td>\n",
       "      <td>341.13</td>\n",
       "    </tr>\n",
       "    <tr>\n",
       "      <th>26721</th>\n",
       "      <td>11/6/2021</td>\n",
       "      <td>Good looking chart plays for the week. Enter long on PDH or a 5 minute squeeze. Nov. 12 Calls. \\n$AAPL\\n$AMZN\\n$FB… https://t.co/bmNqvb2KsJ</td>\n",
       "      <td>1</td>\n",
       "      <td>FALSE</td>\n",
       "      <td>FALSE</td>\n",
       "      <td>en</td>\n",
       "      <td>NaN</td>\n",
       "      <td>FB</td>\n",
       "      <td>{'neg': 0.0, 'neu': 0.811, 'pos': 0.189, 'compound': 0.5994}</td>\n",
       "      <td>positive</td>\n",
       "      <td>0.6</td>\n",
       "      <td>341.13</td>\n",
       "    </tr>\n",
       "    <tr>\n",
       "      <th>26722</th>\n",
       "      <td>11/6/2021</td>\n",
       "      <td>@PatternProfits \\n\\n$FB\\n\\nHi Ben, can take a look at FB. It is good as long as it does not close below 326.04 for the… https://t.co/BPpkCMdeRp</td>\n",
       "      <td>0</td>\n",
       "      <td>FALSE</td>\n",
       "      <td>FALSE</td>\n",
       "      <td>en</td>\n",
       "      <td>NaN</td>\n",
       "      <td>FB</td>\n",
       "      <td>{'neg': 0.0, 'neu': 0.892, 'pos': 0.108, 'compound': 0.4404}</td>\n",
       "      <td>neutral</td>\n",
       "      <td>0.44</td>\n",
       "      <td>341.13</td>\n",
       "    </tr>\n",
       "  </tbody>\n",
       "</table>\n",
       "<p>26723 rows × 12 columns</p>\n",
       "</div>"
      ],
      "text/plain": [
       "             Date  \\\n",
       "0      10/24/2021   \n",
       "1      10/24/2021   \n",
       "2      10/24/2021   \n",
       "3      10/24/2021   \n",
       "4      10/24/2021   \n",
       "...           ...   \n",
       "26718   11/6/2021   \n",
       "26719   11/6/2021   \n",
       "26720   11/6/2021   \n",
       "26721   11/6/2021   \n",
       "26722   11/6/2021   \n",
       "\n",
       "                                                                                                                                                        text  \\\n",
       "0                                                    $BBIG $AMC $GME $DWAC $BENE âœ…ðŸ“ˆðŸ“ˆðŸ“ˆ ðŸ‘‰\\n\\n#DWAC #GME #BENE #BBIG #AMC https://t.co/PcMTemqch1   \n",
       "1         RT @soFloTrading: SUNDAY GIVEAWAY TIME!\\n\\nOctober 18, 2021 - Weekly Trade Performance\\n\\nToday is the last day to lock in a FREE weekly trial!â€¦   \n",
       "2         We are going through the beginning stages of everything Iâ€™ve said in the last year about the economy. Iâ€™m no geniusâ€¦ https://t.co/DaBpCTtQh6   \n",
       "3          $BBBY ðŸ‹ candidate! the base is minimum. ðŸš€\\n\\n$GME $AMC $BB $NOK $NAKD $CCIV $BTC $ETH $DOGE $TEL $SHIB $ADA $XTZâ€¦ https://t.co/c1RCHDpDkF   \n",
       "4      The largest mining company in the world\\nGet Bonus 40% â¬‡ï¸\\nhttps://t.co/kVp59h2td0\\n\\n$elon $doge $btc $tsla $amc $gmeâ€¦ https://t.co/I4ZfSukZaP   \n",
       "...                                                                                                                                                      ...   \n",
       "26718            @RobEducated $FB $MVRS Metaverse optionality isn’t really priced in at current ~22x P/E. I think I trust more Zuck… https://t.co/4w3U6cFthi   \n",
       "26719           $FB $MRNA $NVAX $LAC $AAPL $NVDA\\nMy calls , Weekly Options Gains :\\n\\n$FB 320p|Nov 05 | $1.55 to $3 &gt; 95% moved… https://t.co/c3k90lW7ye   \n",
       "26720            @801010athlete I am viewing Thursday move was due to metaverse announcements from $FB and $MSFT. The N in CANSLIM.… https://t.co/oemrZW4Sp3   \n",
       "26721            Good looking chart plays for the week. Enter long on PDH or a 5 minute squeeze. Nov. 12 Calls. \\n$AAPL\\n$AMZN\\n$FB… https://t.co/bmNqvb2KsJ   \n",
       "26722        @PatternProfits \\n\\n$FB\\n\\nHi Ben, can take a look at FB. It is good as long as it does not close below 326.04 for the… https://t.co/BPpkCMdeRp   \n",
       "\n",
       "      favorite_count favorited retweeted lang quoted_status Stock_Name  \\\n",
       "0                  0     FALSE     FALSE   en           NaN        GME   \n",
       "1                  0     FALSE     FALSE   en           NaN        GME   \n",
       "2                  0     FALSE     FALSE   en           NaN        GME   \n",
       "3                  0     FALSE     FALSE   en           NaN        GME   \n",
       "4                  0     FALSE     FALSE   en           NaN        GME   \n",
       "...              ...       ...       ...  ...           ...        ...   \n",
       "26718              1     FALSE     FALSE   en           NaN         FB   \n",
       "26719              1     FALSE     FALSE   en           NaN         FB   \n",
       "26720              2     FALSE     FALSE   en           NaN         FB   \n",
       "26721              1     FALSE     FALSE   en           NaN         FB   \n",
       "26722              0     FALSE     FALSE   en           NaN         FB   \n",
       "\n",
       "                                                          sentiment  \\\n",
       "0             {'neg': 0.0, 'neu': 1.0, 'pos': 0.0, 'compound': 0.0}   \n",
       "1      {'neg': 0.0, 'neu': 0.833, 'pos': 0.167, 'compound': 0.6825}   \n",
       "2      {'neg': 0.095, 'neu': 0.905, 'pos': 0.0, 'compound': -0.296}   \n",
       "3             {'neg': 0.0, 'neu': 1.0, 'pos': 0.0, 'compound': 0.0}   \n",
       "4      {'neg': 0.0, 'neu': 0.844, 'pos': 0.156, 'compound': 0.5423}   \n",
       "...                                                             ...   \n",
       "26718  {'neg': 0.0, 'neu': 0.852, 'pos': 0.148, 'compound': 0.5106}   \n",
       "26719    {'neg': 0.0, 'neu': 0.906, 'pos': 0.094, 'compound': 0.34}   \n",
       "26720         {'neg': 0.0, 'neu': 1.0, 'pos': 0.0, 'compound': 0.0}   \n",
       "26721  {'neg': 0.0, 'neu': 0.811, 'pos': 0.189, 'compound': 0.5994}   \n",
       "26722  {'neg': 0.0, 'neu': 0.892, 'pos': 0.108, 'compound': 0.4404}   \n",
       "\n",
       "      sentiment_class compound score  Stock Price  \n",
       "0             neutral               0       169.8  \n",
       "1            positive            0.68       169.8  \n",
       "2            negative            -0.3       169.8  \n",
       "3             neutral               0       169.8  \n",
       "4            positive             NaN       169.8  \n",
       "...               ...             ...         ...  \n",
       "26718        positive            0.51      341.13  \n",
       "26719         neutral            0.34      341.13  \n",
       "26720         neutral               0      341.13  \n",
       "26721        positive             0.6      341.13  \n",
       "26722         neutral            0.44      341.13  \n",
       "\n",
       "[26723 rows x 12 columns]"
      ]
     },
     "execution_count": 6,
     "metadata": {},
     "output_type": "execute_result"
    }
   ],
   "source": [
    "totalInfo"
   ]
  },
  {
   "cell_type": "code",
   "execution_count": null,
   "id": "d09640c7",
   "metadata": {},
   "outputs": [],
   "source": [
    "#fill any NaN/invalid values\n",
    "totalInfo = totalInfo.fillna(0)"
   ]
  },
  {
   "cell_type": "code",
   "execution_count": null,
   "id": "42886670",
   "metadata": {},
   "outputs": [],
   "source": [
    "#get rid of any noisy data (compound score is zero)\n",
    "filter_noise = (totalInfo['compound score '] != '0')\n",
    "totalInfo = totalInfo.loc[filter_noise]"
   ]
  },
  {
   "cell_type": "code",
   "execution_count": null,
   "id": "d4b945c4",
   "metadata": {
    "scrolled": true
   },
   "outputs": [],
   "source": [
    "totalInfo"
   ]
  },
  {
   "cell_type": "markdown",
   "id": "d55987e2",
   "metadata": {},
   "source": [
    "Find if sentence has ... in it"
   ]
  },
  {
   "cell_type": "code",
   "execution_count": null,
   "id": "6155956a",
   "metadata": {},
   "outputs": [],
   "source": [
    "def remove_sentence(comment): #if text contains …, then it will be removed (… means truncated)\n",
    "    print(comment.find('…'))\n",
    "    if comment.find('…') > 0:\n",
    "        #print(\"Remove\")\n",
    "        return 1\n",
    "    else:\n",
    "        #print(\"Don't remove\")\n",
    "        return -1\n",
    "        "
   ]
  },
  {
   "cell_type": "code",
   "execution_count": null,
   "id": "d33f39f2",
   "metadata": {
    "scrolled": true
   },
   "outputs": [],
   "source": [
    "totalInfo['remove'] = totalInfo['text'].map(lambda x: '1' if remove_sentence(x) == 1 else '-1')"
   ]
  },
  {
   "cell_type": "markdown",
   "id": "63a1f5ee",
   "metadata": {},
   "source": [
    "Filter out sentences that are truncated:"
   ]
  },
  {
   "cell_type": "code",
   "execution_count": null,
   "id": "3a196711",
   "metadata": {
    "scrolled": false
   },
   "outputs": [],
   "source": [
    "filter_truncated = totalInfo['remove'] == '-1'\n",
    "full_comments_df = totalInfo.loc[filter_truncated]\n",
    "full_comments_df"
   ]
  },
  {
   "cell_type": "markdown",
   "id": "3590604d",
   "metadata": {},
   "source": [
    "Before Filtering: 26722 rows"
   ]
  },
  {
   "cell_type": "markdown",
   "id": "21066f9d",
   "metadata": {},
   "source": [
    "After Filtering: 15881 rows"
   ]
  },
  {
   "cell_type": "markdown",
   "id": "514c2838",
   "metadata": {},
   "source": [
    "60% of data remain"
   ]
  },
  {
   "cell_type": "markdown",
   "id": "4b4fb007",
   "metadata": {},
   "source": [
    "Modifed vaderSentiment Analyzer:"
   ]
  },
  {
   "cell_type": "code",
   "execution_count": null,
   "id": "422439cc",
   "metadata": {},
   "outputs": [],
   "source": [
    "def one_comment(sentences):\n",
    "    sentence_list = []\n",
    "    stocks_mentioned = {} \n",
    "    seen = False\n",
    "    within_comment = nltk.sent_tokenize(sentences) #makes a list of all sentences in comment\n",
    "    paragraph_sentiment = 0.0\n",
    "\n",
    "    for sentence in within_comment:\n",
    "        seen = False\n",
    "        analyzer = SentimentIntensityAnalyzer() #Create analyzer object\n",
    "        analyzer.polarity_scores(within_comment)\n",
    "        vs = analyzer.polarity_scores(sentence) # sentiment of sentence\n",
    "        words = nltk.word_tokenize(sentence) # makes a list of all the words within a sentence\n",
    "        for word in words: #iterates through each word in sentence\n",
    "            if word in all_stocks: #checks if stock name is a word\n",
    "                if word not in stocks_mentioned: #adds word to dictionary\n",
    "                    stocks_mentioned[word] = vs['compound'] #sets value of that stock sentiment to vs['compound']\n",
    "                    seen = True  # Ex: \"$AMC best stock $AMC\" <--- if repetition in one sentence (we don't want to add to value)\n",
    "                elif word in stocks_mentioned: #increases compound score\n",
    "                    if seen == False: # Ex: \"$AMC best stock $AMC\" <--- repetition in one sentence\n",
    "                        stocks_mentioned[word] += vs['compound'] \n",
    "        paragraph_sentiment += vs['compound']\n",
    "\n",
    "    #print(within_comment, stocks_mentioned, paragraph_sentiment)\n",
    "    return stocks_mentioned"
   ]
  },
  {
   "cell_type": "code",
   "execution_count": null,
   "id": "7ee976eb",
   "metadata": {},
   "outputs": [],
   "source": [
    "\"\"\"### Sentiment Analyzer\"\"\"\n",
    "\n",
    "def company_scores(sentence): #returns a dictionary with company names in interest with compound score \n",
    "    sentiment_dict = one_comment(sentence)\n",
    "    return sentiment_dict\n",
    "\n",
    "\n",
    "def apply_vadersentiment(df):\n",
    "    df['modified']=df['text'].apply(lambda x: company_scores(x))\n",
    "    #df['sentiment_class']=df['sentiment'].apply(lambda x: 'positive' if x['compound']>0.5 else ('negative' if x['compound']<-0.5 else 'neutral'))\n",
    "    #df['compound score']=df['sentiment'].apply(lambda x: x['compound'])\n",
    "    return df"
   ]
  },
  {
   "cell_type": "markdown",
   "id": "d57c96ce",
   "metadata": {},
   "source": [
    "Obtain all stocks that we are interested in:"
   ]
  },
  {
   "cell_type": "code",
   "execution_count": null,
   "id": "a36f71b0",
   "metadata": {},
   "outputs": [],
   "source": [
    "stocks = totalInfo['Stock_Name'].to_numpy()\n",
    "stocks\n",
    "\n",
    "all_stocks = set(stocks)\n",
    "all_stocks.remove('Stock_Name')\n",
    "\n",
    "all_stocks"
   ]
  },
  {
   "cell_type": "code",
   "execution_count": null,
   "id": "25900a76",
   "metadata": {},
   "outputs": [],
   "source": [
    "apply_vadersentiment(full_comments_df)"
   ]
  }
 ],
 "metadata": {
  "kernelspec": {
   "display_name": "Python 3 (ipykernel)",
   "language": "python",
   "name": "python3"
  },
  "language_info": {
   "codemirror_mode": {
    "name": "ipython",
    "version": 3
   },
   "file_extension": ".py",
   "mimetype": "text/x-python",
   "name": "python",
   "nbconvert_exporter": "python",
   "pygments_lexer": "ipython3",
   "version": "3.9.7"
  }
 },
 "nbformat": 4,
 "nbformat_minor": 5
}
