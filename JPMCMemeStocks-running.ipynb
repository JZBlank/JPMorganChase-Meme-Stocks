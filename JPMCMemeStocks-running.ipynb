{
 "cells": [
  {
   "cell_type": "markdown",
   "id": "83c09a85",
   "metadata": {},
   "source": [
    "Original file is located at\n",
    "    https://colab.research.google.com/drive/14rKzdYdHjxlcRUPuaP1KJgwvh4YiW7Qp\n",
    "\n",
    "\n",
    "Create a twitter developer account at:\n",
    "https://developer.twitter.com/en/docs/twitter-api/getting-started/getting-access-to-the-twitter-api\n",
    "    \n",
    "Familiarize yourself with the Twitter API:\n",
    "https://developer.twitter.com/en/docs/twitter-api/getting-started/about-twitter-api\n",
    "\n",
    "\n"
   ]
  },
  {
   "cell_type": "code",
   "execution_count": 1,
   "id": "a75151f6",
   "metadata": {},
   "outputs": [
    {
     "name": "stdout",
     "output_type": "stream",
     "text": [
      "Requirement already satisfied: pandas in c:\\users\\gvlev\\anaconda3\\lib\\site-packages (1.2.4)\n",
      "Requirement already satisfied: numpy>=1.16.5 in c:\\users\\gvlev\\anaconda3\\lib\\site-packages (from pandas) (1.20.1)\n",
      "Requirement already satisfied: python-dateutil>=2.7.3 in c:\\users\\gvlev\\anaconda3\\lib\\site-packages (from pandas) (2.8.1)\n",
      "Requirement already satisfied: pytz>=2017.3 in c:\\users\\gvlev\\anaconda3\\lib\\site-packages (from pandas) (2021.1)\n",
      "Requirement already satisfied: six>=1.5 in c:\\users\\gvlev\\anaconda3\\lib\\site-packages (from python-dateutil>=2.7.3->pandas) (1.15.0)\n",
      "Requirement already satisfied: yfinance in c:\\users\\gvlev\\anaconda3\\lib\\site-packages (0.1.63)\n",
      "Requirement already satisfied: pandas>=0.24 in c:\\users\\gvlev\\anaconda3\\lib\\site-packages (from yfinance) (1.2.4)\n",
      "Requirement already satisfied: requests>=2.20 in c:\\users\\gvlev\\anaconda3\\lib\\site-packages (from yfinance) (2.25.1)\n",
      "Requirement already satisfied: multitasking>=0.0.7 in c:\\users\\gvlev\\anaconda3\\lib\\site-packages (from yfinance) (0.0.9)\n",
      "Requirement already satisfied: lxml>=4.5.1 in c:\\users\\gvlev\\anaconda3\\lib\\site-packages (from yfinance) (4.6.3)\n",
      "Requirement already satisfied: numpy>=1.15 in c:\\users\\gvlev\\anaconda3\\lib\\site-packages (from yfinance) (1.20.1)\n",
      "Requirement already satisfied: pytz>=2017.3 in c:\\users\\gvlev\\anaconda3\\lib\\site-packages (from pandas>=0.24->yfinance) (2021.1)\n",
      "Requirement already satisfied: python-dateutil>=2.7.3 in c:\\users\\gvlev\\anaconda3\\lib\\site-packages (from pandas>=0.24->yfinance) (2.8.1)\n",
      "Requirement already satisfied: six>=1.5 in c:\\users\\gvlev\\anaconda3\\lib\\site-packages (from python-dateutil>=2.7.3->pandas>=0.24->yfinance) (1.15.0)\n",
      "Requirement already satisfied: certifi>=2017.4.17 in c:\\users\\gvlev\\anaconda3\\lib\\site-packages (from requests>=2.20->yfinance) (2020.12.5)\n",
      "Requirement already satisfied: chardet<5,>=3.0.2 in c:\\users\\gvlev\\anaconda3\\lib\\site-packages (from requests>=2.20->yfinance) (4.0.0)\n",
      "Requirement already satisfied: idna<3,>=2.5 in c:\\users\\gvlev\\anaconda3\\lib\\site-packages (from requests>=2.20->yfinance) (2.10)\n",
      "Requirement already satisfied: urllib3<1.27,>=1.21.1 in c:\\users\\gvlev\\anaconda3\\lib\\site-packages (from requests>=2.20->yfinance) (1.26.4)\n",
      "Requirement already satisfied: vaderSentiment in c:\\users\\gvlev\\anaconda3\\lib\\site-packages (3.3.2)\n",
      "Requirement already satisfied: requests in c:\\users\\gvlev\\anaconda3\\lib\\site-packages (from vaderSentiment) (2.25.1)\n",
      "Requirement already satisfied: certifi>=2017.4.17 in c:\\users\\gvlev\\anaconda3\\lib\\site-packages (from requests->vaderSentiment) (2020.12.5)\n",
      "Requirement already satisfied: chardet<5,>=3.0.2 in c:\\users\\gvlev\\anaconda3\\lib\\site-packages (from requests->vaderSentiment) (4.0.0)\n",
      "Requirement already satisfied: idna<3,>=2.5 in c:\\users\\gvlev\\anaconda3\\lib\\site-packages (from requests->vaderSentiment) (2.10)\n",
      "Requirement already satisfied: urllib3<1.27,>=1.21.1 in c:\\users\\gvlev\\anaconda3\\lib\\site-packages (from requests->vaderSentiment) (1.26.4)\n",
      "Requirement already satisfied: matplotlib in c:\\users\\gvlev\\anaconda3\\lib\\site-packages (3.3.4)\n",
      "Requirement already satisfied: kiwisolver>=1.0.1 in c:\\users\\gvlev\\anaconda3\\lib\\site-packages (from matplotlib) (1.3.1)\n",
      "Requirement already satisfied: cycler>=0.10 in c:\\users\\gvlev\\anaconda3\\lib\\site-packages (from matplotlib) (0.10.0)\n",
      "Requirement already satisfied: pillow>=6.2.0 in c:\\users\\gvlev\\anaconda3\\lib\\site-packages (from matplotlib) (8.2.0)\n",
      "Requirement already satisfied: pyparsing!=2.0.4,!=2.1.2,!=2.1.6,>=2.0.3 in c:\\users\\gvlev\\anaconda3\\lib\\site-packages (from matplotlib) (2.4.7)\n",
      "Requirement already satisfied: numpy>=1.15 in c:\\users\\gvlev\\anaconda3\\lib\\site-packages (from matplotlib) (1.20.1)\n",
      "Requirement already satisfied: python-dateutil>=2.1 in c:\\users\\gvlev\\anaconda3\\lib\\site-packages (from matplotlib) (2.8.1)\n",
      "Requirement already satisfied: six in c:\\users\\gvlev\\anaconda3\\lib\\site-packages (from cycler>=0.10->matplotlib) (1.15.0)\n",
      "Requirement already satisfied: numpy in c:\\users\\gvlev\\anaconda3\\lib\\site-packages (1.20.1)\n",
      "Requirement already satisfied: datetime in c:\\users\\gvlev\\anaconda3\\lib\\site-packages (4.3)\n",
      "Requirement already satisfied: pytz in c:\\users\\gvlev\\anaconda3\\lib\\site-packages (from datetime) (2021.1)\n",
      "Requirement already satisfied: zope.interface in c:\\users\\gvlev\\anaconda3\\lib\\site-packages (from datetime) (5.3.0)\n",
      "Requirement already satisfied: setuptools in c:\\users\\gvlev\\anaconda3\\lib\\site-packages (from zope.interface->datetime) (52.0.0.post20210125)\n",
      "Requirement already satisfied: altair in c:\\users\\gvlev\\anaconda3\\lib\\site-packages (4.1.0)\n"
     ]
    },
    {
     "name": "stderr",
     "output_type": "stream",
     "text": [
      "ERROR: Could not find a version that satisfies the requirement as\n",
      "ERROR: No matching distribution found for as\n",
      "ERROR: Could not find a version that satisfies the requirement time\n",
      "ERROR: No matching distribution found for time\n"
     ]
    }
   ],
   "source": [
    "\n",
    "!pip install pandas\n",
    "!pip install yfinance\n",
    "!pip install vaderSentiment\n",
    "!pip install matplotlib\n",
    "!pip install numpy\n",
    "!pip install datetime\n",
    "!pip install altair as alt\n",
    "!pip install time\n",
    "import pandas as pd\n",
    "import requests\n",
    "import json\n",
    "import pytz\n",
    "import datetime\n",
    "import yfinance as yf\n",
    "import matplotlib.pyplot as plt\n",
    "import numpy as np\n",
    "import datetime as dt\n",
    "\n",
    "from vaderSentiment.vaderSentiment import SentimentIntensityAnalyzer\n",
    "\n",
    "import warnings\n",
    "warnings.filterwarnings('ignore')\n"
   ]
  },
  {
   "cell_type": "code",
   "execution_count": 2,
   "id": "f4b70050",
   "metadata": {},
   "outputs": [],
   "source": [
    "\"\"\"### Authentication\n",
    "Replace consumer_key and consumer_secret with the API key and secret provided to you when your Twitter developer account is created\n",
    "\"\"\"\n",
    "#get keys locally stored on grace's pc\n",
    "key = open('C:/Users/gvlev/Desktop/JPMC Stuff/JPMCMemeStocksAPIKey.txt', 'r')\n",
    "keysecret = open('C:/Users/gvlev/Desktop/JPMC Stuff/JPMCMemeStocksAPIKeySecret.txt', 'r')\n",
    "\n",
    "def get_bearer_token(key, secret):\n",
    "    bearer_token_url = \"https://api.twitter.com/oauth2/token\"\n",
    "    response = requests.post(bearer_token_url,auth=(key, secret),data={'grant_type': 'client_credentials'},\n",
    "                             headers={\"User-Agent\": \"TwitterDevFilteredStreamQuickStartPython\"},verify=False)\n",
    "    body = response.json()\n",
    "    return body['access_token']\n",
    "\n",
    "\n",
    "def auth():\n",
    "    consumer_key = key.read() # Add keys here\n",
    "    consumer_secret = keysecret.read() # Add secret key here\n",
    "    token = get_bearer_token(consumer_key, consumer_secret)\n",
    "    return token\n",
    "\n",
    "\n",
    "def create_headers(bearer_token):\n",
    "    headers = {\"Authorization\": \"Bearer {}\".format(bearer_token)}\n",
    "    return headers\n",
    "\n"
   ]
  },
  {
   "cell_type": "code",
   "execution_count": 3,
   "id": "a08baac9",
   "metadata": {},
   "outputs": [],
   "source": [
    "\"\"\"### Search for Tweets \"\"\"\n",
    "\n",
    "def search_tweets(searchQuery, headers):\n",
    "    search_tweets = requests.get('https://api.twitter.com/1.1/search/tweets.json?q=$'+str(searchQuery)+'&count=100&result_type=recent', headers=headers)\n",
    "    return pd.DataFrame.from_records(json.loads(search_tweets.text)['statuses'])\n",
    "\n",
    "#search for tweets with stock names\n",
    "def get_twitter_stock_search(list_of_stocks):\n",
    "    search_df = pd.DataFrame()\n",
    "    bearer_token = auth()\n",
    "    headers = create_headers(bearer_token)\n",
    "    for stock in list_of_stocks:\n",
    "        try:\n",
    "            temp_df = search_tweets(stock, headers)\n",
    "            temp_df['ticker']=stock\n",
    "            temp_df['created_at'] = pd.to_datetime(temp_df['created_at'], infer_datetime_format=True)\n",
    "            temp_df = temp_df[temp_df['created_at'].dt.date == datetime.datetime.now(pytz.timezone('US/Eastern')).date()]\n",
    "            search_df = search_df.append(temp_df)\n",
    "        except:\n",
    "            continue\n",
    "    return search_df\n",
    "\n"
   ]
  },
  {
   "cell_type": "code",
   "execution_count": 4,
   "id": "a494094c",
   "metadata": {},
   "outputs": [],
   "source": [
    "\"\"\"### Randomly Collect Tweets\"\"\"\n",
    "\n",
    "def create_url():\n",
    "    return \"https://api.twitter.com/2/tweets/sample/stream?tweet.fields=created_at&expansions=author_id&user.fields=created_at\"\n",
    "\n",
    "\n",
    "def connect_to_stream_endpoint():\n",
    "    url = create_url()\n",
    "    bearer_token = auth()\n",
    "    headers = create_headers(bearer_token)\n",
    "    stream_list = []\n",
    "    response = requests.request(\"GET\", url, headers=headers, stream=True)\n",
    "    for response_line in response.iter_lines():\n",
    "        if response_line:\n",
    "            json_response = json.loads(response_line)\n",
    "            if'data' in json_response:\n",
    "                stream_list.append(json_response)\n",
    "            if len(stream_list)==1000:\n",
    "                r = requests.post(url=url, headers={'Connection':'close'})\n",
    "                stream_df = pd.DataFrame.from_records(pd.DataFrame.from_records(stream_list)['data'])\n",
    "                return stream_df\n",
    "\n"
   ]
  },
  {
   "cell_type": "code",
   "execution_count": 5,
   "id": "f7fb07d9",
   "metadata": {},
   "outputs": [],
   "source": [
    "\"\"\"### Sentiment Analyzer\"\"\"\n",
    "\n",
    "def sentiment_scores(sentence):\n",
    "    sid_obj = SentimentIntensityAnalyzer()\n",
    "    sentiment_dict = sid_obj.polarity_scores(sentence)\n",
    "    return sentiment_dict\n",
    "\n",
    "\n",
    "def apply_vadersentiment(df):\n",
    "    df['sentiment']=df['text'].apply(lambda x: sentiment_scores(x))\n",
    "    #set compound score range, classify based on range\n",
    "    df['sentiment_class']=df['sentiment'].apply(lambda x: 'positive' if x['compound']>0.5 else ('negative' if x['compound']<-0.5 else 'neutral'))\n",
    "    df['compound score']=df['sentiment'].apply(lambda x: x['compound'])\n",
    "    return df\n",
    "\n"
   ]
  },
  {
   "cell_type": "code",
   "execution_count": 6,
   "id": "0a107d36",
   "metadata": {},
   "outputs": [],
   "source": [
    "\"\"\"### Usage\"\"\"\n",
    "\n",
    "    \n",
    "list_of_stocks = ['GME','AMC','TSLA', 'NOK', 'JPM', 'BAC', 'SBUX', 'AMZN', 'FB']\n",
    "stocks = {}\n",
    "\n",
    "#get yfinance info based on ticker \n",
    "for stock in list_of_stocks:\n",
    "    stocks[stock] = yf.Ticker(stock)\n",
    "twitter_stocks_df = get_twitter_stock_search(list_of_stocks)\n",
    "twitter_sentiment_df = apply_vadersentiment(twitter_stocks_df)\n",
    "\n",
    "\n",
    "filter_info = twitter_sentiment_df[[\"text\", \"sentiment_class\"]] # filter the data \n",
    "\n",
    "\n",
    "\n",
    "#renaming columns\n",
    "twitter_stocks_df.rename({'created_at':'Date', 'ticker':'Stock_Name'}, axis=1, inplace= True)\n",
    "filteredDat = twitter_stocks_df[['Date', 'text', 'favorite_count', 'favorited', 'retweeted', 'lang', 'quoted_status', 'Stock_Name', 'sentiment', 'sentiment_class', 'compound score']]\n",
    "#filtered so only tweets in english are considered (vadersentiment only works on english)\n",
    "engFilter = filteredDat['lang']=='en'\n",
    "filteredDat = filteredDat[engFilter]\n",
    "\n",
    "#adding stock price to column\n",
    "filteredDat['Stock Price'] = filteredDat.apply(\n",
    "    lambda row: stocks[row.Stock_Name].history(period='1d')['Close'][0], axis=1)\n",
    "#store data in a csv file\n",
    "filteredDat.to_csv(r'C:/Users/gvlev/Desktop/JPMC Stuff/JPMC_data_csv2.csv', mode = 'a',index=False, header=True)\n",
    "\n",
    "\n",
    "\n"
   ]
  },
  {
   "cell_type": "code",
   "execution_count": null,
   "id": "2cdf54fc",
   "metadata": {},
   "outputs": [],
   "source": []
  },
  {
   "cell_type": "code",
   "execution_count": 7,
   "id": "db92ef01",
   "metadata": {},
   "outputs": [],
   "source": [
    "#load previous data from csv file\n",
    "def load():\n",
    "    return pd.read_csv(r\"C:\\Users\\gvlev\\Desktop\\JPMC Stuff\\JPMC_data_csv2.csv\",  parse_dates=['Date'])\n",
    "\n",
    "totalInfo = load().copy()\n",
    "\n",
    "#fill any NaN/invalid values\n",
    "totalInfo = totalInfo.fillna(0)\n",
    "\n",
    "#get rid of any noisy data (compound score is zero)\n",
    "filter = (totalInfo['compound score']!='0') & (totalInfo['compound score']!='0.0')\n",
    "totalInfo = totalInfo[filter]\n",
    "\n",
    "\n",
    "\n",
    "\n"
   ]
  },
  {
   "cell_type": "code",
   "execution_count": 8,
   "id": "10d176a1",
   "metadata": {
    "scrolled": false
   },
   "outputs": [
    {
     "ename": "TypeError",
     "evalue": "strptime() takes exactly 2 arguments (1 given)",
     "output_type": "error",
     "traceback": [
      "\u001b[1;31m---------------------------------------------------------------------------\u001b[0m",
      "\u001b[1;31mTypeError\u001b[0m                                 Traceback (most recent call last)",
      "\u001b[1;32m<ipython-input-8-c6c066e7885e>\u001b[0m in \u001b[0;36m<module>\u001b[1;34m\u001b[0m\n\u001b[0;32m      4\u001b[0m \u001b[1;33m\u001b[0m\u001b[0m\n\u001b[0;32m      5\u001b[0m \u001b[1;31m#format date\u001b[0m\u001b[1;33m\u001b[0m\u001b[1;33m\u001b[0m\u001b[1;33m\u001b[0m\u001b[0m\n\u001b[1;32m----> 6\u001b[1;33m GMEdf['Date'] = GMEdf.apply(\n\u001b[0m\u001b[0;32m      7\u001b[0m     lambda row: datetime.datetime.strptime(row.Date), axis=1)\n\u001b[0;32m      8\u001b[0m \u001b[1;31m#convert strings to correct types\u001b[0m\u001b[1;33m\u001b[0m\u001b[1;33m\u001b[0m\u001b[1;33m\u001b[0m\u001b[0m\n",
      "\u001b[1;32m~\\anaconda3\\lib\\site-packages\\pandas\\core\\frame.py\u001b[0m in \u001b[0;36mapply\u001b[1;34m(self, func, axis, raw, result_type, args, **kwds)\u001b[0m\n\u001b[0;32m   7766\u001b[0m             \u001b[0mkwds\u001b[0m\u001b[1;33m=\u001b[0m\u001b[0mkwds\u001b[0m\u001b[1;33m,\u001b[0m\u001b[1;33m\u001b[0m\u001b[1;33m\u001b[0m\u001b[0m\n\u001b[0;32m   7767\u001b[0m         )\n\u001b[1;32m-> 7768\u001b[1;33m         \u001b[1;32mreturn\u001b[0m \u001b[0mop\u001b[0m\u001b[1;33m.\u001b[0m\u001b[0mget_result\u001b[0m\u001b[1;33m(\u001b[0m\u001b[1;33m)\u001b[0m\u001b[1;33m\u001b[0m\u001b[1;33m\u001b[0m\u001b[0m\n\u001b[0m\u001b[0;32m   7769\u001b[0m \u001b[1;33m\u001b[0m\u001b[0m\n\u001b[0;32m   7770\u001b[0m     \u001b[1;32mdef\u001b[0m \u001b[0mapplymap\u001b[0m\u001b[1;33m(\u001b[0m\u001b[0mself\u001b[0m\u001b[1;33m,\u001b[0m \u001b[0mfunc\u001b[0m\u001b[1;33m,\u001b[0m \u001b[0mna_action\u001b[0m\u001b[1;33m:\u001b[0m \u001b[0mOptional\u001b[0m\u001b[1;33m[\u001b[0m\u001b[0mstr\u001b[0m\u001b[1;33m]\u001b[0m \u001b[1;33m=\u001b[0m \u001b[1;32mNone\u001b[0m\u001b[1;33m)\u001b[0m \u001b[1;33m->\u001b[0m \u001b[0mDataFrame\u001b[0m\u001b[1;33m:\u001b[0m\u001b[1;33m\u001b[0m\u001b[1;33m\u001b[0m\u001b[0m\n",
      "\u001b[1;32m~\\anaconda3\\lib\\site-packages\\pandas\\core\\apply.py\u001b[0m in \u001b[0;36mget_result\u001b[1;34m(self)\u001b[0m\n\u001b[0;32m    183\u001b[0m             \u001b[1;32mreturn\u001b[0m \u001b[0mself\u001b[0m\u001b[1;33m.\u001b[0m\u001b[0mapply_raw\u001b[0m\u001b[1;33m(\u001b[0m\u001b[1;33m)\u001b[0m\u001b[1;33m\u001b[0m\u001b[1;33m\u001b[0m\u001b[0m\n\u001b[0;32m    184\u001b[0m \u001b[1;33m\u001b[0m\u001b[0m\n\u001b[1;32m--> 185\u001b[1;33m         \u001b[1;32mreturn\u001b[0m \u001b[0mself\u001b[0m\u001b[1;33m.\u001b[0m\u001b[0mapply_standard\u001b[0m\u001b[1;33m(\u001b[0m\u001b[1;33m)\u001b[0m\u001b[1;33m\u001b[0m\u001b[1;33m\u001b[0m\u001b[0m\n\u001b[0m\u001b[0;32m    186\u001b[0m \u001b[1;33m\u001b[0m\u001b[0m\n\u001b[0;32m    187\u001b[0m     \u001b[1;32mdef\u001b[0m \u001b[0mapply_empty_result\u001b[0m\u001b[1;33m(\u001b[0m\u001b[0mself\u001b[0m\u001b[1;33m)\u001b[0m\u001b[1;33m:\u001b[0m\u001b[1;33m\u001b[0m\u001b[1;33m\u001b[0m\u001b[0m\n",
      "\u001b[1;32m~\\anaconda3\\lib\\site-packages\\pandas\\core\\apply.py\u001b[0m in \u001b[0;36mapply_standard\u001b[1;34m(self)\u001b[0m\n\u001b[0;32m    274\u001b[0m \u001b[1;33m\u001b[0m\u001b[0m\n\u001b[0;32m    275\u001b[0m     \u001b[1;32mdef\u001b[0m \u001b[0mapply_standard\u001b[0m\u001b[1;33m(\u001b[0m\u001b[0mself\u001b[0m\u001b[1;33m)\u001b[0m\u001b[1;33m:\u001b[0m\u001b[1;33m\u001b[0m\u001b[1;33m\u001b[0m\u001b[0m\n\u001b[1;32m--> 276\u001b[1;33m         \u001b[0mresults\u001b[0m\u001b[1;33m,\u001b[0m \u001b[0mres_index\u001b[0m \u001b[1;33m=\u001b[0m \u001b[0mself\u001b[0m\u001b[1;33m.\u001b[0m\u001b[0mapply_series_generator\u001b[0m\u001b[1;33m(\u001b[0m\u001b[1;33m)\u001b[0m\u001b[1;33m\u001b[0m\u001b[1;33m\u001b[0m\u001b[0m\n\u001b[0m\u001b[0;32m    277\u001b[0m \u001b[1;33m\u001b[0m\u001b[0m\n\u001b[0;32m    278\u001b[0m         \u001b[1;31m# wrap results\u001b[0m\u001b[1;33m\u001b[0m\u001b[1;33m\u001b[0m\u001b[1;33m\u001b[0m\u001b[0m\n",
      "\u001b[1;32m~\\anaconda3\\lib\\site-packages\\pandas\\core\\apply.py\u001b[0m in \u001b[0;36mapply_series_generator\u001b[1;34m(self)\u001b[0m\n\u001b[0;32m    288\u001b[0m             \u001b[1;32mfor\u001b[0m \u001b[0mi\u001b[0m\u001b[1;33m,\u001b[0m \u001b[0mv\u001b[0m \u001b[1;32min\u001b[0m \u001b[0menumerate\u001b[0m\u001b[1;33m(\u001b[0m\u001b[0mseries_gen\u001b[0m\u001b[1;33m)\u001b[0m\u001b[1;33m:\u001b[0m\u001b[1;33m\u001b[0m\u001b[1;33m\u001b[0m\u001b[0m\n\u001b[0;32m    289\u001b[0m                 \u001b[1;31m# ignore SettingWithCopy here in case the user mutates\u001b[0m\u001b[1;33m\u001b[0m\u001b[1;33m\u001b[0m\u001b[1;33m\u001b[0m\u001b[0m\n\u001b[1;32m--> 290\u001b[1;33m                 \u001b[0mresults\u001b[0m\u001b[1;33m[\u001b[0m\u001b[0mi\u001b[0m\u001b[1;33m]\u001b[0m \u001b[1;33m=\u001b[0m \u001b[0mself\u001b[0m\u001b[1;33m.\u001b[0m\u001b[0mf\u001b[0m\u001b[1;33m(\u001b[0m\u001b[0mv\u001b[0m\u001b[1;33m)\u001b[0m\u001b[1;33m\u001b[0m\u001b[1;33m\u001b[0m\u001b[0m\n\u001b[0m\u001b[0;32m    291\u001b[0m                 \u001b[1;32mif\u001b[0m \u001b[0misinstance\u001b[0m\u001b[1;33m(\u001b[0m\u001b[0mresults\u001b[0m\u001b[1;33m[\u001b[0m\u001b[0mi\u001b[0m\u001b[1;33m]\u001b[0m\u001b[1;33m,\u001b[0m \u001b[0mABCSeries\u001b[0m\u001b[1;33m)\u001b[0m\u001b[1;33m:\u001b[0m\u001b[1;33m\u001b[0m\u001b[1;33m\u001b[0m\u001b[0m\n\u001b[0;32m    292\u001b[0m                     \u001b[1;31m# If we have a view on v, we need to make a copy because\u001b[0m\u001b[1;33m\u001b[0m\u001b[1;33m\u001b[0m\u001b[1;33m\u001b[0m\u001b[0m\n",
      "\u001b[1;32m<ipython-input-8-c6c066e7885e>\u001b[0m in \u001b[0;36m<lambda>\u001b[1;34m(row)\u001b[0m\n\u001b[0;32m      5\u001b[0m \u001b[1;31m#format date\u001b[0m\u001b[1;33m\u001b[0m\u001b[1;33m\u001b[0m\u001b[1;33m\u001b[0m\u001b[0m\n\u001b[0;32m      6\u001b[0m GMEdf['Date'] = GMEdf.apply(\n\u001b[1;32m----> 7\u001b[1;33m     lambda row: datetime.datetime.strptime(row.Date), axis=1)\n\u001b[0m\u001b[0;32m      8\u001b[0m \u001b[1;31m#convert strings to correct types\u001b[0m\u001b[1;33m\u001b[0m\u001b[1;33m\u001b[0m\u001b[1;33m\u001b[0m\u001b[0m\n\u001b[0;32m      9\u001b[0m \u001b[0mGMEdf\u001b[0m\u001b[1;33m[\u001b[0m\u001b[1;34m'Stock Price'\u001b[0m\u001b[1;33m]\u001b[0m \u001b[1;33m=\u001b[0m \u001b[0mGMEdf\u001b[0m\u001b[1;33m[\u001b[0m\u001b[1;34m'Stock Price'\u001b[0m\u001b[1;33m]\u001b[0m\u001b[1;33m.\u001b[0m\u001b[0mastype\u001b[0m\u001b[1;33m(\u001b[0m\u001b[0mfloat\u001b[0m\u001b[1;33m)\u001b[0m\u001b[1;33m.\u001b[0m\u001b[0mto_numpy\u001b[0m\u001b[1;33m(\u001b[0m\u001b[1;33m)\u001b[0m\u001b[1;33m\u001b[0m\u001b[1;33m\u001b[0m\u001b[0m\n",
      "\u001b[1;31mTypeError\u001b[0m: strptime() takes exactly 2 arguments (1 given)"
     ]
    }
   ],
   "source": [
    "\n",
    "#filter for GME data only\n",
    "GME = (totalInfo['Stock_Name']=='GME') & (totalInfo['compound score'] != 0)& (totalInfo['Stock Price'] != 0)\n",
    "GMEdf = totalInfo[GME]\n",
    "\n",
    "#format date\n",
    "GMEdf['Date'] = GMEdf.apply(\n",
    "    lambda row: datetime.datetime.strptime(row.Date), axis=1)\n",
    "#convert strings to correct types\n",
    "GMEdf['Stock Price'] = GMEdf['Stock Price'].astype(float).to_numpy()\n",
    "GMEdf['compound score'] = GMEdf['compound score'].astype(float)\n",
    "\n",
    "#group by date, take avg of values\n",
    "grouped = GMEdf.groupby(['Date'], as_index=False).mean()\n",
    "\n",
    "#graphing\n",
    "fig,ax = plt.subplots()\n",
    "ax.plot(grouped['Date'], grouped['compound score'])\n",
    "ax.set_xlabel(\"Date\"), ax.set_ylabel(\"Compound Score\"), ax.set_title(\"GME\")\n",
    "#ax.xticks(rotation=45, ha='right')\n",
    "\n",
    "ax2 = ax.twinx()\n",
    "ax2.plot(grouped['Date'], stocks['GME'].history(period='364d'))\n"
   ]
  },
  {
   "cell_type": "code",
   "execution_count": null,
   "id": "8cf1aa3e",
   "metadata": {},
   "outputs": [],
   "source": [
    "plt.plot(grouped['Date'], grouped['Stock Price'])"
   ]
  },
  {
   "cell_type": "code",
   "execution_count": null,
   "id": "5931c92b",
   "metadata": {},
   "outputs": [],
   "source": [
    "AMC = (totalInfo['Stock_Name']=='AMC') & (totalInfo['compound score'] != 0)& (totalInfo['Stock Price'] != 0)\n",
    "AMCdf = totalInfo[AMC]\n",
    "\n",
    "AMCdf['Stock Price'] = AMCdf['Stock Price'].astype(float).to_numpy()\n",
    "AMCdf['compound score'] = AMCdf['compound score'].astype(float)\n",
    "\n",
    "grouped = AMCdf.groupby(['Date'], as_index=False).mean()\n",
    "\n",
    "plt.plot(grouped['Date'], grouped['compound score'])\n",
    "plt.xlabel(\"Date\"), plt.ylabel(\"Compound Score\"), plt.title(\"AMC\")\n",
    "plt.xticks(rotation=45, ha='right')\n"
   ]
  },
  {
   "cell_type": "code",
   "execution_count": null,
   "id": "ca08a2f0",
   "metadata": {},
   "outputs": [],
   "source": [
    "plt.plot(grouped['Date'], grouped['Stock Price'])"
   ]
  },
  {
   "cell_type": "code",
   "execution_count": null,
   "id": "f5168d23",
   "metadata": {},
   "outputs": [],
   "source": [
    "JPM = (totalInfo['Stock_Name']=='JPM') & (totalInfo['compound score'] != 0)& (totalInfo['Stock Price'] != 0)\n",
    "JPMdf = totalInfo[JPM]\n",
    "\n",
    "JPMdf['Stock Price'] = JPMdf['Stock Price'].astype(float).to_numpy()\n",
    "JPMdf['compound score'] = JPMdf['compound score'].astype(float).to_numpy()\n",
    "\n",
    "grouped = JPMdf.groupby(['Date'], as_index=False).mean()\n",
    "\n",
    "plt.plot(grouped['Date'], grouped['compound score'])\n",
    "plt.xlabel(\"Date\"), plt.ylabel(\"Compound Score\"), plt.title(\"JPMC\")\n",
    "plt.xticks(rotation=45, ha='right')\n",
    "#ewma exponentially weighted avg\n"
   ]
  },
  {
   "cell_type": "code",
   "execution_count": null,
   "id": "57188631",
   "metadata": {},
   "outputs": [],
   "source": [
    "plt.plot(grouped['Date'], grouped['Stock Price'])"
   ]
  },
  {
   "cell_type": "code",
   "execution_count": null,
   "id": "b25b0184",
   "metadata": {
    "scrolled": true
   },
   "outputs": [],
   "source": [
    "TSLA = (totalInfo['Stock_Name']=='TSLA') & (totalInfo['compound score'] != 0)& (totalInfo['Stock Price'] != 0)\n",
    "TSLAdf = totalInfo[TSLA]\n",
    "\n",
    "TSLAdf['Stock Price'] = TSLAdf['Stock Price'].astype(float).to_numpy()\n",
    "TSLAdf['compound score'] = TSLAdf['compound score'].astype(float)\n",
    "\n",
    "grouped = TSLAdf.groupby(['Date'], as_index=False).mean()\n",
    "\n",
    "plt.plot(grouped['Date'], grouped['compound score'])\n",
    "plt.xticks(rotation=45, ha='right')"
   ]
  },
  {
   "cell_type": "code",
   "execution_count": null,
   "id": "46285fc7",
   "metadata": {},
   "outputs": [],
   "source": [
    "plt.plot(grouped['Date'], grouped['Stock Price'])"
   ]
  },
  {
   "cell_type": "code",
   "execution_count": null,
   "id": "79c742f6",
   "metadata": {},
   "outputs": [],
   "source": [
    "NOK = (totalInfo['Stock_Name']=='NOK') & (totalInfo['compound score'] != 0)& (totalInfo['Stock Price'] != 0)\n",
    "NOKdf = totalInfo[NOK]\n",
    "\n",
    "NOKdf['Stock Price'] = NOKdf['Stock Price'].astype(float).to_numpy()\n",
    "NOKdf['compound score'] = NOKdf['compound score'].astype(float)\n",
    "\n",
    "grouped = NOKdf.groupby(['Date'], as_index=False).mean()\n",
    "\n",
    "plt.plot(grouped['Date'], grouped['compound score'])\n",
    "plt.xticks(rotation=45, ha='right')"
   ]
  },
  {
   "cell_type": "code",
   "execution_count": null,
   "id": "c3d41a10",
   "metadata": {},
   "outputs": [],
   "source": [
    "plt.plot(grouped['Date'], grouped['Stock Price'])"
   ]
  },
  {
   "cell_type": "code",
   "execution_count": null,
   "id": "ff1a7f46",
   "metadata": {},
   "outputs": [],
   "source": [
    "\n",
    "BAC = (totalInfo['Stock_Name']=='BAC')& (totalInfo['compound score'] != 0)& (totalInfo['Stock Price'] != 0)\n",
    "BACdf = totalInfo[BAC]\n",
    "\n",
    "BACdf['Stock Price'] = BACdf['Stock Price'].astype(float).to_numpy()\n",
    "BACdf['compound score'] = BACdf['compound score'].astype(float).to_numpy()\n",
    "\n",
    "grouped = BACdf.groupby(['Date'], as_index=False).mean()\n",
    "\n",
    "plt.plot(grouped['Date'], grouped['compound score'])\n",
    "plt.xticks(rotation=45, ha='right')"
   ]
  },
  {
   "cell_type": "code",
   "execution_count": null,
   "id": "38ce038e",
   "metadata": {},
   "outputs": [],
   "source": [
    "plt.plot(grouped['Date'], grouped['Stock Price'])"
   ]
  },
  {
   "cell_type": "code",
   "execution_count": null,
   "id": "589f768f",
   "metadata": {
    "scrolled": true
   },
   "outputs": [],
   "source": [
    "SBUX = (totalInfo['Stock_Name']=='SBUX')& (totalInfo['compound score'] != 0)& (totalInfo['Stock Price'] != 0)\n",
    "SBUXdf = totalInfo[SBUX]\n",
    "\n",
    "\n",
    "SBUXdf['Stock Price'] = SBUXdf['Stock Price'].astype(float).to_numpy()\n",
    "SBUXdf['compound score'] = SBUXdf['compound score'].astype(float)\n",
    "\n",
    "grouped = SBUXdf.groupby(['Date'], as_index=False).mean()\n",
    "\n",
    "plt.plot(grouped['Date'], grouped['compound score'])\n",
    "plt.xticks(rotation=45, ha='right')"
   ]
  },
  {
   "cell_type": "code",
   "execution_count": null,
   "id": "9a7514a3",
   "metadata": {},
   "outputs": [],
   "source": [
    "plt.plot(grouped['Date'], grouped['Stock Price'])"
   ]
  },
  {
   "cell_type": "code",
   "execution_count": null,
   "id": "7ae2cb01",
   "metadata": {},
   "outputs": [],
   "source": [
    "AMZN = (totalInfo['Stock_Name']=='AMZN') & (totalInfo['compound score'] != 0)& (totalInfo['Stock Price'] != 0)\n",
    "AMZNdf = totalInfo[AMZN]\n",
    "\n",
    "AMZNdf['Stock Price'] = AMZNdf['Stock Price'].astype(float)\n",
    "AMZNdf['compound score'] = AMZNdf['compound score'].astype(float)\n",
    "\n",
    "grouped = AMZNdf.groupby(['Date'], as_index=False).mean()\n",
    "\n",
    "plt.plot(grouped['Date'], grouped['compound score'])\n",
    "plt.xticks(rotation=45, ha='right')\n"
   ]
  },
  {
   "cell_type": "code",
   "execution_count": null,
   "id": "a6392667",
   "metadata": {},
   "outputs": [],
   "source": [
    "plt.plot(grouped['Date'], grouped['Stock Price'])"
   ]
  },
  {
   "cell_type": "code",
   "execution_count": null,
   "id": "0978920b",
   "metadata": {},
   "outputs": [],
   "source": [
    "FB = (totalInfo['Stock_Name']=='FB') & (totalInfo['compound score'] != 0)& (totalInfo['Stock Price'] != 0)\n",
    "FBdf = totalInfo[FB]\n",
    "\n",
    "FBdf['Stock Price'] = FBdf['Stock Price'].astype(float)\n",
    "FBdf['compound score'] = FBdf['compound score'].astype(float)\n",
    "\n",
    "grouped = FBdf.groupby(['Date'], as_index=False).mean()\n",
    "\n",
    "plt.plot(grouped['Date'], grouped['compound score'])\n",
    "plt.xticks(rotation=45, ha='right')\n"
   ]
  },
  {
   "cell_type": "code",
   "execution_count": null,
   "id": "bfb8a661",
   "metadata": {},
   "outputs": [],
   "source": [
    "plt.plot(grouped['Date'], grouped['Stock Price'])"
   ]
  },
  {
   "cell_type": "code",
   "execution_count": null,
   "id": "913c2878",
   "metadata": {},
   "outputs": [],
   "source": []
  }
 ],
 "metadata": {
  "interpreter": {
   "hash": "6c1e182b583ec230b017fe4c74ea6d0f8f17b65441c27658700a9352baf61112"
  },
  "kernelspec": {
   "display_name": "Python 3",
   "language": "python",
   "name": "python3"
  },
  "language_info": {
   "codemirror_mode": {
    "name": "ipython",
    "version": 3
   },
   "file_extension": ".py",
   "mimetype": "text/x-python",
   "name": "python",
   "nbconvert_exporter": "python",
   "pygments_lexer": "ipython3",
   "version": "3.8.8"
  }
 },
 "nbformat": 4,
 "nbformat_minor": 5
}
